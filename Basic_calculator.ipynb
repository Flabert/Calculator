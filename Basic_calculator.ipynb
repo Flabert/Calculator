{
  "nbformat": 4,
  "nbformat_minor": 0,
  "metadata": {
    "colab": {
      "provenance": [],
      "authorship_tag": "ABX9TyNmfmSFyBVHaWxbamOFgxGO",
      "include_colab_link": true
    },
    "kernelspec": {
      "name": "python3",
      "display_name": "Python 3"
    },
    "language_info": {
      "name": "python"
    }
  },
  "cells": [
    {
      "cell_type": "markdown",
      "metadata": {
        "id": "view-in-github",
        "colab_type": "text"
      },
      "source": [
        "<a href=\"https://colab.research.google.com/github/Flabert/Calculator/blob/main/Basic_calculator.ipynb\" target=\"_parent\"><img src=\"https://colab.research.google.com/assets/colab-badge.svg\" alt=\"Open In Colab\"/></a>"
      ]
    },
    {
      "cell_type": "code",
      "execution_count": null,
      "metadata": {
        "id": "OuoQYP72F3hN",
        "colab": {
          "base_uri": "https://localhost:8080/"
        },
        "outputId": "9ef8bbda-a2d6-4dfd-a401-f5a2b0eb93bc"
      },
      "outputs": [
        {
          "output_type": "stream",
          "name": "stdout",
          "text": [
            "Select operation:\n",
            "1. Add\n",
            "2. Subtract\n",
            "3. Multiply\n",
            "4. Divide\n",
            "Enter choice (1/2/3/4): 4\n",
            "Enter first number: 4\n",
            "Enter second number: 0\n",
            "Error! y can't be zero\n",
            "4.0 / 0.0 = None\n"
          ]
        }
      ],
      "source": [
        "# Basic Calculator\n",
        "# This program performs basic arithmetic calculations\n",
        "\n",
        "#Addition function\n",
        "def add (x,y):\n",
        "    return x+y\n",
        "\n",
        "#Subtraction function\n",
        "def subtract (x,y):\n",
        "    return x-y\n",
        "\n",
        "#Multiplication function\n",
        "def multiply (x,y):\n",
        "    return x*y\n",
        "\n",
        "#Division function\n",
        "def divide(x,y):\n",
        "    if y==0:\n",
        "        print(\"Error! y can't be zero\")\n",
        "    else:\n",
        "        return x/y\n",
        "\n",
        "#Text menu\n",
        "print (\"Select operation:\")\n",
        "print (\"1. Add\")\n",
        "print (\"2. Subtract\")\n",
        "print (\"3. Multiply\")\n",
        "print (\"4. Divide\")\n",
        "\n",
        "#Ask for input\n",
        "choice = input (\"Enter choice (1/2/3/4): \")\n",
        "num1 = float(input(\"Enter first number: \"))\n",
        "num2 = float(input(\"Enter second number: \"))\n",
        "\n",
        "#Execute calculation\n",
        "if choice == \"1\":\n",
        "    print(f\"{num1} + {num2} = {add(num1,num2)}\")\n",
        "elif choice == \"2\":\n",
        "    print(f\"{num1} - {num2} = {subtract(num1,num2)}\")\n",
        "elif choice == \"3\":\n",
        "    print(f\"{num1} x {num2} = {multiply(num1,num2)}\")\n",
        "elif choice == \"4\":\n",
        "    print(f\"{num1} / {num2} = {divide(num1,num2)}\")\n",
        "else:\n",
        "    print(\"Invalid input\")\n",
        "\n",
        "\n",
        "\n",
        "\n"
      ]
    }
  ]
}