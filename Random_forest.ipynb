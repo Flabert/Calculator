{
  "nbformat": 4,
  "nbformat_minor": 0,
  "metadata": {
    "colab": {
      "provenance": [],
      "authorship_tag": "ABX9TyP8tezk+zEOQxhn78WGmqJV",
      "include_colab_link": true
    },
    "kernelspec": {
      "name": "python3",
      "display_name": "Python 3"
    },
    "language_info": {
      "name": "python"
    }
  },
  "cells": [
    {
      "cell_type": "markdown",
      "metadata": {
        "id": "view-in-github",
        "colab_type": "text"
      },
      "source": [
        "<a href=\"https://colab.research.google.com/github/Flabert/Calculator/blob/main/Random_forest.ipynb\" target=\"_parent\"><img src=\"https://colab.research.google.com/assets/colab-badge.svg\" alt=\"Open In Colab\"/></a>"
      ]
    },
    {
      "cell_type": "code",
      "execution_count": null,
      "metadata": {
        "id": "sWzBG7tATrSg"
      },
      "outputs": [],
      "source": [
        " Import libraries\n",
        " import numpy as np\n",
        " import matplotlib.pyplot as plt\n",
        " import seaborn as sns\n",
        " from sklearn.datasets import load_iris\n",
        " from sklearn.model_selection import train_test_split, cross_val_score, GridSearchCV\n",
        " from sklearn.tree import DecisionTreeClassifier, plot_tree\n",
        " from sklearn.metrics import accuracy_score, confusion_matrix, classification_report\n",
        " import joblib\n",
        "\n",
        "#load the iris dataset\n",
        "iris = load_iris()\n",
        "x = iris.data\n",
        "y = iris.target\n",
        "\n",
        "#Basic dataset overview\n",
        "print (f\"Dataset shape: {x.shape}\")\n",
        "print (f\"Classes: {iris.target_names}\")\n",
        "print (f\"Feature names: {iris.feature_names}\")\n",
        "\n",
        "\"\"\"\n",
        "Visualize pairplot to see the relationship between features\n",
        "Pairplot shows the relationship between different features, coloured by species,\n",
        "giving a visula understanding of the dataset structure\n",
        "\"\"\"\n",
        "sns.pairplot(sns.load_dataset(\"iris\"), hue=\"species\")\n",
        "plt.show()\n",
        "\n",
        "\n",
        "\n",
        "\n",
        "\n",
        "\n",
        "\n",
        "\n",
        "\n",
        "\n",
        "\n",
        "\n"
      ]
    }
  ]
}