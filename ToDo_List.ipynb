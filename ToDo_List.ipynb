{
  "nbformat": 4,
  "nbformat_minor": 0,
  "metadata": {
    "colab": {
      "provenance": [],
      "authorship_tag": "ABX9TyN5e8J2KL8VCTuu2G7r2quE",
      "include_colab_link": true
    },
    "kernelspec": {
      "name": "python3",
      "display_name": "Python 3"
    },
    "language_info": {
      "name": "python"
    }
  },
  "cells": [
    {
      "cell_type": "markdown",
      "metadata": {
        "id": "view-in-github",
        "colab_type": "text"
      },
      "source": [
        "<a href=\"https://colab.research.google.com/github/Flabert/Calculator/blob/main/ToDo_List.ipynb\" target=\"_parent\"><img src=\"https://colab.research.google.com/assets/colab-badge.svg\" alt=\"Open In Colab\"/></a>"
      ]
    },
    {
      "cell_type": "code",
      "execution_count": null,
      "metadata": {
        "id": "NrkBezaYO_1f"
      },
      "outputs": [],
      "source": [
        "# ToDo_List Application wuill enable the user to add, remove and view tasks\n",
        "\n",
        "#Initialise a list to store tasks\n",
        "todo_list = []\n",
        "\n",
        "#Add a task fubction\n",
        "def add_task(task):\n",
        "    todo_list.append(task)\n",
        "    print (f\"{task} has been added to the list\")\n",
        "\n",
        "#Delete a task function\n",
        "def remove_task(task):\n",
        "    if task in todo_list:\n",
        "        todo_list.remove(task)\n",
        "        print(f\"{task} has been removed from the list\")\n",
        "    else:\n",
        "        print(f\"{task} not found in the list\")\n",
        "\n",
        "#Display all tasks function\n",
        "def view_tasks():\n",
        "    if todo_list:\n",
        "        print(\"This is your TO-DO List:\")\n",
        "        for i, task in enumerate(todo_list,1):\n",
        "            print(f\"{i}- {task}\")\n",
        "    else:\n",
        "        print(\"Your TO-DO List is empty\")\n",
        "\n",
        "#User interface input\n",
        "while True\n",
        "    print(\"\\nOptions: add, remove, view, quit\")\n",
        "    user_input = input(\"What would you like to do?\").strip().lower()\n",
        "\n",
        "    if user_input == \"add\":\n",
        "        task = input(\"Enter the task: \").strip()\n",
        "        add_task(task)\n",
        "    elif user_input == \"remove\":\n",
        "        task = input(\"Enter the task to remove: \").srtip()\n",
        "    elif user_input == \"view\":\n",
        "        view_tasks()\n",
        "    elif user_input == \"quit\":\n",
        "        print(\"Good bye!\")\n",
        "        break\n",
        "    else:\n",
        "        print(\"Invalid option. Please choose: add, remove, view, quit\")\n",
        "\n",
        "\n",
        "\n",
        "\n",
        "\n"
      ]
    }
  ]
}