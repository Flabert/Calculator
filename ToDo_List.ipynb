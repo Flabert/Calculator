{
  "nbformat": 4,
  "nbformat_minor": 0,
  "metadata": {
    "colab": {
      "provenance": [],
      "authorship_tag": "ABX9TyNE1pT91k0+RhlnyfPNsstw",
      "include_colab_link": true
    },
    "kernelspec": {
      "name": "python3",
      "display_name": "Python 3"
    },
    "language_info": {
      "name": "python"
    }
  },
  "cells": [
    {
      "cell_type": "markdown",
      "metadata": {
        "id": "view-in-github",
        "colab_type": "text"
      },
      "source": [
        "<a href=\"https://colab.research.google.com/github/Flabert/Calculator/blob/main/ToDo_List.ipynb\" target=\"_parent\"><img src=\"https://colab.research.google.com/assets/colab-badge.svg\" alt=\"Open In Colab\"/></a>"
      ]
    },
    {
      "cell_type": "code",
      "execution_count": null,
      "metadata": {
        "id": "NrkBezaYO_1f"
      },
      "outputs": [],
      "source": [
        "# ToDo_List Application wuill enable the user to add, remove and view tasks\n",
        "# Tasks are also categorised and prioritised\n",
        "\n",
        "#Initialise a list to store tasks\n",
        "todo_list = []\n",
        "\n",
        "#Add a task fubction with priority and category\n",
        "def add_task(task, priority = \"Low\", category = \"General\"):\n",
        "    todo_list.append({\"task\": task, \"priority\": priority, \"category\": category})\n",
        "    print (f\"{task} (Priority: {priority}, Category: {category}) has been added to the list\")\n",
        "\n",
        "#Delete a task function\n",
        "def remove_task(task):\n",
        "    if task in todo_list:\n",
        "        todo_list.remove(task)\n",
        "        print(f\"{task} has been removed from the list\")\n",
        "    else:\n",
        "        print(f\"{task} not found in the list\")\n",
        "\n",
        "#Display all tasks function, with option to filter by category\n",
        "def view_tasks(category = None):\n",
        "    if todo_list:\n",
        "        print(\"This is your TO-DO List:\")\n",
        "        for i, item in enumerate(todo_list,1):\n",
        "            if not category or item[\"category\"] == category:\n",
        "                print(f\"{i}- {item[\"task\"]} (Priority: {item[\"priority\"]}, Category: {item[\"category\"]})\")\n",
        "    else:\n",
        "        print(\"Your TO-DO List is empty\")\n",
        "\n",
        "#Function to sort by priority\n",
        "def sort_tasks():\n",
        "    todo_list.sort(key=lambda x: x[\"priority\"])\n",
        "    print (\"Tasks have been sorted by priority\")\n",
        "\n",
        "#User interface input\n",
        "while True\n",
        "    print(\"\\nOptions: add, remove, view, sort, or quit\")\n",
        "    user_input = input(\"What would you like to do?\").strip().lower()\n",
        "\n",
        "    if user_input == \"add\":\n",
        "        task = input(\"Enter the task: \").strip()\n",
        "        priority = input(\"Enter the epriority (High / Medium / Low): \").strip().capitalize()\n",
        "        category = input(\"Enter the category: \").strip()\n",
        "        add_task(task, priority, category)\n",
        "\n",
        "    elif user_input == \"remove\":\n",
        "        task = input(\"Enter the task to remove: \").srtip()\n",
        "\n",
        "    elif user_input == \"view\":\n",
        "        category = input(\"Enter the category to view (or leave blank to view all): \").strip()\n",
        "        view_tasks(category if category else None)\n",
        "\n",
        "    elif user_input == \"sort\":\n",
        "        sort_tasks()\n",
        "        view_tasks()\n",
        "\n",
        "    elif user_input == \"quit\":\n",
        "        print(\"Good bye!\")\n",
        "        break\n",
        "\n",
        "    else:\n",
        "        print(\"Invalid option. Please choose: add, remove, view, sort or quit\")\n",
        "\n",
        "\n",
        "\n",
        "\n",
        "\n"
      ]
    }
  ]
}