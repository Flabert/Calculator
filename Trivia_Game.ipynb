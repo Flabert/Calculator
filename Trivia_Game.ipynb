{
  "nbformat": 4,
  "nbformat_minor": 0,
  "metadata": {
    "colab": {
      "provenance": [],
      "authorship_tag": "ABX9TyM4+e87MgNGFlrfDCfFxXYW",
      "include_colab_link": true
    },
    "kernelspec": {
      "name": "python3",
      "display_name": "Python 3"
    },
    "language_info": {
      "name": "python"
    }
  },
  "cells": [
    {
      "cell_type": "markdown",
      "metadata": {
        "id": "view-in-github",
        "colab_type": "text"
      },
      "source": [
        "<a href=\"https://colab.research.google.com/github/Flabert/Calculator/blob/main/Trivia_Game.ipynb\" target=\"_parent\"><img src=\"https://colab.research.google.com/assets/colab-badge.svg\" alt=\"Open In Colab\"/></a>"
      ]
    },
    {
      "cell_type": "code",
      "execution_count": null,
      "metadata": {
        "id": "Q5mqgfnJ1Jvy"
      },
      "outputs": [],
      "source": [
        "import ipywidgets as widgets\n",
        "from IPython.display import display, clear_output\n",
        "\n",
        "#Define the questions and answers\n",
        "quiz_questions = [\n",
        "    {\n",
        "    \"question\": \"What is the capital of France?\",\n",
        "    \"options\": [\"Paris\", \"London\", \"Berlin\", \"Madrid\"],\n",
        "    \"answer\": \"Paris\"\n",
        "    },\n",
        "    {\n",
        "    \"question\": \"What is the largest planet in our solar system?\",\n",
        "    \"options\": [\"Mars\", \"Jupiter\", \"Saturn\", \"Neptune\"],\n",
        "    \"answer\": \"Jupiter\"\n",
        "    },\n",
        "    {\n",
        "    \"question\": \"What is the currency of Japan?\",\n",
        "    \"options\": [\"Yen\", \"Dollar\", \"Euro\", \"Pound\"],\n",
        "    \"answer\": \"Yen\"\n",
        "    }\n",
        "]\n",
        "\n",
        "#Create widgets for the quiz\n",
        "question_label = widgets.Label (value=\"\")\n",
        "option_buttons = [widgets.Button(description=option) for option in quiz_questions[0][\"options\"]]\n",
        "score_label = widgets.Label(value=\"\")\n",
        "\n",
        "#Define the quiz logic\n",
        "current_question = 0\n",
        "score = 0\n",
        "\n",
        "def update_question():\n",
        "    global current_question\n",
        "    question_label.value = quiz_questions[current_question][\"question\"]\n",
        "    for i, button in enumerate(option_buttons):\n",
        "        button.description = quiz_questions[current_question][\"options\"][i]\n",
        "\n",
        "def check_answer(button):\n",
        "    global current_question, score\n",
        "    if button.description == quiz_questions[current_question][\"answer\"]:\n",
        "        score += 1\n",
        "    current_question += 1\n",
        "    if current_question < len(quiz_questions):\n",
        "        update_question()\n",
        "    else:\n",
        "        clear_output()\n",
        "        score_label.value = f\"Your final score is: {score}/{len(quiz_questions)}\"\n",
        "        display(score_label)\n",
        "\n",
        "#Connect buttons to the check answer function\n",
        "for button in option_buttons:\n",
        "    button.on_click(check_answer)\n",
        "\n",
        "#Start the quiz\n",
        "update_question()\n",
        "display(question_label)\n",
        "for button in option_buttons:\n",
        "    display(button)\n",
        "\n",
        "\n",
        "\n",
        "\n",
        "\n",
        "\n",
        "\n",
        "\n",
        "\n",
        "\n",
        "\n",
        "\n",
        "\n",
        "\n",
        "\n",
        "\n",
        "\n"
      ]
    }
  ]
}