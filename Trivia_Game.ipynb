{
  "nbformat": 4,
  "nbformat_minor": 0,
  "metadata": {
    "colab": {
      "provenance": [],
      "authorship_tag": "ABX9TyOIOK86NgoWwa0eEH3zsnss",
      "include_colab_link": true
    },
    "kernelspec": {
      "name": "python3",
      "display_name": "Python 3"
    },
    "language_info": {
      "name": "python"
    }
  },
  "cells": [
    {
      "cell_type": "markdown",
      "metadata": {
        "id": "view-in-github",
        "colab_type": "text"
      },
      "source": [
        "<a href=\"https://colab.research.google.com/github/Flabert/Calculator/blob/main/Trivia_Game.ipynb\" target=\"_parent\"><img src=\"https://colab.research.google.com/assets/colab-badge.svg\" alt=\"Open In Colab\"/></a>"
      ]
    },
    {
      "cell_type": "code",
      "execution_count": 4,
      "metadata": {
        "id": "Q5mqgfnJ1Jvy",
        "colab": {
          "base_uri": "https://localhost:8080/",
          "height": 110
        },
        "outputId": "6bd8b03d-5846-4157-b1ce-2db651cd3422"
      },
      "outputs": [
        {
          "output_type": "error",
          "ename": "SyntaxError",
          "evalue": "f-string: unmatched '[' (ipython-input-2784017650.py, line 66)",
          "traceback": [
            "\u001b[0;36m  File \u001b[0;32m\"/tmp/ipython-input-2784017650.py\"\u001b[0;36m, line \u001b[0;32m66\u001b[0m\n\u001b[0;31m    question_label.value = f\"<b>{quiz_questions[current_question][\"question\"]}</b>\"\u001b[0m\n\u001b[0m                                                                   ^\u001b[0m\n\u001b[0;31mSyntaxError\u001b[0m\u001b[0;31m:\u001b[0m f-string: unmatched '['\n"
          ]
        }
      ],
      "source": [
        "import random\n",
        "import ipywidgets as widgets\n",
        "from IPython.display import display, clear_output\n",
        "\n",
        "#Define the questions and answers\n",
        "quiz_questions = [\n",
        "    {\n",
        "    \"question\": \"What is the capital of France?\",\n",
        "    \"options\": [\"Paris\", \"London\", \"Berlin\", \"Madrid\"],\n",
        "    \"answer\": \"Paris\"\n",
        "    },\n",
        "    {\n",
        "    \"question\": \"What is the largest planet in our solar system?\",\n",
        "    \"options\": [\"Mars\", \"Jupiter\", \"Saturn\", \"Neptune\"],\n",
        "    \"answer\": \"Jupiter\"\n",
        "    },\n",
        "    {\n",
        "    \"question\": \"What is the currency of Japan?\",\n",
        "    \"options\": [\"Yen\", \"Dollar\", \"Euro\", \"Pound\"],\n",
        "    \"answer\": \"Yen\"\n",
        "    },\n",
        "    {\n",
        "    \"question\": \"What is the largest ocean in the world?\",\n",
        "    \"options\": [\"Atlantic Ocean\", \"Indian Ocean\", \"Pacific Ocean\", \"Arctic Ocean\"],\n",
        "    \"answer\": \"Pacific Ocean\"\n",
        "    },\n",
        "    {\n",
        "    \"question\": \"What is the capital of Australia?\",\n",
        "    \"options\": [\"Sydney\", \"Melbourne\", \"Canberra\", \"Brisbane\"],\n",
        "    \"answer\": \"Canberra\"\n",
        "    },\n",
        "    {\n",
        "    \"question\": \"What is the largest country in the world by land area?\",\n",
        "    \"options\": [\"Russia\", \"Canada\", \"China\", \"United States\"],\n",
        "    \"answer\": \"Russia\"\n",
        "    },\n",
        "    {\n",
        "    \"question\": \"What is the currency of Switzerland?\",\n",
        "    \"options\": [\"Euro\", \"Dollar\", \"Yen\", \"Pound\"],\n",
        "    \"answer\": \"Euro\"\n",
        "    },\n",
        "    {\n",
        "    \"question\": \"What is the largest desert in the world?\",\n",
        "    \"options\": [\"Sahara Desert\", \"Gobi Desert\", \"Arabian Desert\", \"Kalahari Desert\"],\n",
        "    \"answer\": \"Sahara Desert\"\n",
        "    }\n",
        "]\n",
        "\n",
        "#Add a random function to randomise the questions\n",
        "random.shuffle(quiz_questions)\n",
        "\n",
        "#Create widgets for the quiz\n",
        "progress_bar=widgets.IntProgress(value = 0, min=0, max=len(quiz_questions), bar_style = \"info\")\n",
        "display(progress_bar)\n",
        "question_label = widgets.HTML (value=\"\")\n",
        "option_buttons = [widgets.Button() for option in quiz_questions[0][\"options\"]]\n",
        "score_label = widgets.Label(value=\"\")\n",
        "\n",
        "#Define the quiz logic\n",
        "current_question = 0\n",
        "score = 0\n",
        "\n",
        "def update_question():\n",
        "    global current_question\n",
        "    progress_bar.value = current_question\n",
        "    question_label.value = f\"<b>{quiz_questions[current_question]['question']}</b>\"\n",
        "    for i, button in enumerate(option_buttons):\n",
        "        button.description = quiz_questions[current_question][\"options\"][i]\n",
        "\n",
        "def check_answer(button):\n",
        "    global current_question, score\n",
        "    if button.description == quiz_questions[current_question][\"answer\"]:\n",
        "        score += 1\n",
        "    current_question += 1\n",
        "    if current_question < len(quiz_questions):\n",
        "        update_question()\n",
        "    else:\n",
        "        clear_output()\n",
        "        score_label.value = f\"Your final score is: {score}/{len(quiz_questions)}\"\n",
        "        display(score_label)\n",
        "\n",
        "#Connect buttons to the check answer function\n",
        "for button in option_buttons:\n",
        "    button.on_click(check_answer)\n",
        "\n",
        "#Start the quiz\n",
        "update_question()\n",
        "display(question_label)\n",
        "for button in option_buttons:\n",
        "    display(button)\n",
        "\n",
        "\n",
        "\n",
        "\n",
        "\n",
        "\n",
        "\n",
        "\n",
        "\n",
        "\n",
        "\n",
        "\n",
        "\n",
        "\n",
        "\n",
        "\n",
        "\n"
      ]
    }
  ]
}