{
  "nbformat": 4,
  "nbformat_minor": 0,
  "metadata": {
    "colab": {
      "provenance": [],
      "authorship_tag": "ABX9TyP+Ht/oxwM30vwydmSCjobI",
      "include_colab_link": true
    },
    "kernelspec": {
      "name": "python3",
      "display_name": "Python 3"
    },
    "language_info": {
      "name": "python"
    }
  },
  "cells": [
    {
      "cell_type": "markdown",
      "metadata": {
        "id": "view-in-github",
        "colab_type": "text"
      },
      "source": [
        "<a href=\"https://colab.research.google.com/github/Flabert/Calculator/blob/main/Trivia_Game.ipynb\" target=\"_parent\"><img src=\"https://colab.research.google.com/assets/colab-badge.svg\" alt=\"Open In Colab\"/></a>"
      ]
    },
    {
      "cell_type": "code",
      "execution_count": null,
      "metadata": {
        "id": "Q5mqgfnJ1Jvy"
      },
      "outputs": [],
      "source": [
        "import ipywidgets as widgets\n",
        "from IPython.display import display, clear_output\n",
        "\n",
        "#Define the questions and answers\n",
        "quiz_questions = [\n",
        "    {\n",
        "    \"question\": \"What is the capital of France?\",\n",
        "    \"options\": [\"Paris\", \"London\", \"Berlin\", \"Madrid\"],\n",
        "    \"answer\": \"Paris\"\n",
        "    },\n",
        "    {\n",
        "    \"question\": \"What is the largest planet in our solar system?\",\n",
        "    \"options\": [\"Mars\", \"Jupiter\", \"Saturn\", \"Neptune\"],\n",
        "    \"answer\": \"Jupiter\"\n",
        "    },\n",
        "    {\n",
        "    \"question\": \"What is the currency of Japan?\",\n",
        "    \"options\": [\"Yen\", \"Dollar\", \"Euro\", \"Pound\"],\n",
        "    \"answer\": \"Yen\"\n",
        "    }\n",
        "]\n",
        "\n",
        "#Create widgets for the quiz\n",
        "\n",
        "\n",
        "\n",
        "\n",
        "\n",
        "\n",
        "\n"
      ]
    }
  ]
}